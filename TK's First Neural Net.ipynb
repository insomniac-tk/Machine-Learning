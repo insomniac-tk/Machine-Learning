{
 "cells": [
  {
   "cell_type": "code",
   "execution_count": 1,
   "metadata": {},
   "outputs": [],
   "source": [
    "import random\n",
    "from random import seed\n",
    "import numpy as np"
   ]
  },
  {
   "cell_type": "code",
   "execution_count": 24,
   "metadata": {
    "scrolled": true
   },
   "outputs": [],
   "source": [
    "\"\"\"\"\n",
    "        Paramters:\n",
    "                    n_inputs: array of inputs \n",
    "                    num_hidden: number of hidden layers \n",
    "                    nodes_hidden: array describing number of nodes in each hidden layer \n",
    "                    n_outpus: number of nodes in output layer \n",
    "        Returns: \n",
    "                    A dictionary representing our NN\n",
    "\"\"\"\n",
    "\n",
    "def InitNeuralNet(num_inputs,num_hidden,nodes_hidden,n_outputs):\n",
    "    len_input = num_inputs\n",
    "    network = {}\n",
    "    prev_nodes = len_input\n",
    "    \n",
    "    for layer in range(num_hidden + 1):\n",
    "        if layer == num_hidden:\n",
    "            layer_name = 'output'\n",
    "            num_nodes = n_outputs \n",
    "        else:\n",
    "            layer_name = 'layer_{}'.format(layer+1)\n",
    "            num_nodes = nodes_hidden[layer]\n",
    "        \n",
    "        network[layer_name] = {}\n",
    "        \n",
    "        for node in range(num_nodes):\n",
    "            node_name = 'node_{}'.format(node+1)\n",
    "            network[layer_name][node_name] = {\n",
    "                'weights' : np.around(np.random.uniform(size=prev_nodes),decimals=2),\n",
    "                'bias' : np.around(np.random.uniform(size=1),decimals=2)\n",
    "            } \n",
    "        prev_nodes = num_nodes\n",
    "            \n",
    "    return network    "
   ]
  },
  {
   "cell_type": "code",
   "execution_count": 26,
   "metadata": {
    "scrolled": true
   },
   "outputs": [
    {
     "data": {
      "text/plain": [
       "{'layer_1': {'node_1': {'weights': array([0.11, 0.18, 0.89, 0.37]),\n",
       "   'bias': array([0.22])},\n",
       "  'node_2': {'weights': array([0.75, 0.11, 0.74, 0.47]),\n",
       "   'bias': array([0.6])}},\n",
       " 'layer_2': {'node_1': {'weights': array([0.15, 0.18]), 'bias': array([0.65])},\n",
       "  'node_2': {'weights': array([0.05, 0.25]), 'bias': array([0.54])}},\n",
       " 'layer_3': {'node_1': {'weights': array([0.23, 0.38]), 'bias': array([0.92])},\n",
       "  'node_2': {'weights': array([0.93, 0.57]), 'bias': array([0.53])}},\n",
       " 'output': {'node_1': {'weights': array([0.01, 0.98]), 'bias': array([0.57])}}}"
      ]
     },
     "execution_count": 26,
     "metadata": {},
     "output_type": "execute_result"
    }
   ],
   "source": [
    "h = InitNeuralNet(4,3,[2,2,2],1)\n",
    "h"
   ]
  },
  {
   "cell_type": "markdown",
   "metadata": {},
   "source": [
    "## Weighted Sum At Each Node"
   ]
  },
  {
   "cell_type": "code",
   "execution_count": 3,
   "metadata": {},
   "outputs": [],
   "source": [
    "def compute_weighted_sum(inputs,weights,bias):\n",
    "    return np.sum(inputs*weights) + bias"
   ]
  },
  {
   "cell_type": "markdown",
   "metadata": {},
   "source": [
    "## Node Activation "
   ]
  },
  {
   "cell_type": "code",
   "execution_count": 12,
   "metadata": {},
   "outputs": [],
   "source": [
    "def sigmoid(weighted_sum):\n",
    "    return 1.0/(1 + np.exp(-1*weighted_sum))"
   ]
  },
  {
   "cell_type": "markdown",
   "metadata": {},
   "source": [
    "## Forward Propogation "
   ]
  },
  {
   "cell_type": "code",
   "execution_count": 30,
   "metadata": {},
   "outputs": [],
   "source": [
    "\"\"\"\n",
    "        Paramaters: \n",
    "                    Dictionary, Network\n",
    "                    Inputs - Array of inputs \n",
    "        Returns: \n",
    "                    Output of the Neural Net or\n",
    "                    Final Activations at the output node.\n",
    "\"\"\"\n",
    "def forward_propogate(network,inputs):\n",
    "    \n",
    "    layer_inputs = list(inputs)\n",
    "    for layer in network:\n",
    "        layer_outputs = []\n",
    "        for node in network[layer]:\n",
    "            w = compute_weighted_sum(layer_inputs,network[layer][node]['weights'],network[layer][node]['bias'])\n",
    "            activation = sigmoid(w)\n",
    "            layer_outputs.append(np.around(activation,decimals=4))\n",
    "        \n",
    "        if layer!='output':\n",
    "            print(\"Outputs of hidden layer numer {} is {}\".format(layer.split('_')[1],layer_outputs))\n",
    "        \n",
    "        layer_inputs = layer_outputs\n",
    "    \n",
    "    network_predictions = layer_outputs\n",
    "    \n",
    "    return network_predictions\n",
    "    \n",
    "            \n",
    "                    \n",
    "            \n",
    "            \n",
    "            \n",
    "            \n",
    "        \n",
    "    "
   ]
  },
  {
   "cell_type": "code",
   "execution_count": 66,
   "metadata": {},
   "outputs": [],
   "source": [
    "test = InitNeuralNet(2,1,[3],1)"
   ]
  },
  {
   "cell_type": "code",
   "execution_count": 67,
   "metadata": {},
   "outputs": [
    {
     "data": {
      "text/plain": [
       "{'layer_1': {'node_1': {'weights': array([0.57, 0.95]), 'bias': array([0.99])},\n",
       "  'node_2': {'weights': array([0.81, 0.9 ]), 'bias': array([0.44])},\n",
       "  'node_3': {'weights': array([0.3 , 0.97]), 'bias': array([0.38])}},\n",
       " 'output': {'node_1': {'weights': array([0.77, 0.46, 0.37]),\n",
       "   'bias': array([0.98])}}}"
      ]
     },
     "execution_count": 67,
     "metadata": {},
     "output_type": "execute_result"
    }
   ],
   "source": [
    "test"
   ]
  },
  {
   "cell_type": "code",
   "execution_count": 68,
   "metadata": {},
   "outputs": [
    {
     "name": "stdout",
     "output_type": "stream",
     "text": [
      "Outputs of hidden layer numer 1 is [array([0.9695]), array([0.9548]), array([0.9321])]\n"
     ]
    },
    {
     "data": {
      "text/plain": [
       "[array([0.9961])]"
      ]
     },
     "execution_count": 68,
     "metadata": {},
     "output_type": "execute_result"
    }
   ],
   "source": [
    "forward_propogate(test,[1,2])"
   ]
  }
 ],
 "metadata": {
  "kernelspec": {
   "display_name": "Python 3",
   "language": "python",
   "name": "python3"
  },
  "language_info": {
   "codemirror_mode": {
    "name": "ipython",
    "version": 3
   },
   "file_extension": ".py",
   "mimetype": "text/x-python",
   "name": "python",
   "nbconvert_exporter": "python",
   "pygments_lexer": "ipython3",
   "version": "3.6.7"
  }
 },
 "nbformat": 4,
 "nbformat_minor": 2
}
