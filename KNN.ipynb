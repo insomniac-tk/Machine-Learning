{
 "cells": [
  {
   "cell_type": "markdown",
   "metadata": {},
   "source": [
    "# KNN For Dummies\n"
   ]
  },
  {
   "cell_type": "code",
   "execution_count": 101,
   "metadata": {},
   "outputs": [],
   "source": [
    "import numpy as np\n",
    "import pandas as pd \n",
    "import matplotlib.pyplot as plt\n",
    "from sklearn import preprocessing\n",
    "from sklearn.neighbors import KNeighborsClassifier\n",
    "from sklearn.metrics import jaccard_similarity_score\n",
    "from sklearn.model_selection import train_test_split\n",
    "%matplotlib inline"
   ]
  },
  {
   "cell_type": "markdown",
   "metadata": {},
   "source": [
    "# First trying KNN Classification on a fake dataset\n",
    "<hr>\n",
    "X : A 2d array of 500 pairs of integers , each between 0,300  \n",
    "y : A 1d array which has the class labels  \n",
    "\n",
    "x<sup>i</sup> has the class label 0 if x<sup>i</sup> is in [0,100)  \n",
    "x<sup>i</sup> has the class label 1 if x<sup>i</sup> is in [100,200)  \n",
    "x<sup>i</sup> has the class label 2 if x<sup>i</sup> is in [200,300)  \n"
   ]
  },
  {
   "cell_type": "code",
   "execution_count": 95,
   "metadata": {},
   "outputs": [],
   "source": [
    "ys = np.random.randint(300,size=500)\n",
    "xs = np.arange(500)\n",
    "X = np.array(list(zip(xs,ys)))\n",
    "y = np.empty(500,dtype='int')"
   ]
  },
  {
   "cell_type": "code",
   "execution_count": 100,
   "metadata": {},
   "outputs": [],
   "source": [
    "# Assigning Class Labels \n",
    "for i in range(len(X)):\n",
    "    # Check 1st column of ith row \n",
    "    if X[i,1] in range(0,100):\n",
    "        y[i] = 0\n",
    "    elif X[i,1] in range(100,200):\n",
    "        y[i] = 1\n",
    "    else:\n",
    "        y[i] =2"
   ]
  },
  {
   "cell_type": "code",
   "execution_count": 94,
   "metadata": {},
   "outputs": [
    {
     "data": {
      "text/plain": [
       "[<matplotlib.lines.Line2D at 0xaf1dcc8>]"
      ]
     },
     "execution_count": 94,
     "metadata": {},
     "output_type": "execute_result"
    },
    {
     "data": {
      "image/png": "[encoded data removed]",
      "text/plain": [
       "<Figure size 432x288 with 1 Axes>"
      ]
     },
     "metadata": {
      "needs_background": "light"
     },
     "output_type": "display_data"
    }
   ],
   "source": [
    "# A picture is worth a thousand words\n",
    "plt.title(\"Our diarrhoea of numbers\")\n",
    "plt.plot(X[:,0],X[:,1],'ro')"
   ]
  },
  {
   "cell_type": "markdown",
   "metadata": {},
   "source": [
    "## Let's split it into training and test set now!"
   ]
  },
  {
   "cell_type": "code",
   "execution_count": 102,
   "metadata": {},
   "outputs": [],
   "source": [
    "X_train,X_test,y_train,y_test = train_test_split(X,y,test_size=0.2)"
   ]
  },
  {
   "cell_type": "code",
   "execution_count": 103,
   "metadata": {
    "scrolled": true
   },
   "outputs": [
    {
     "name": "stdout",
     "output_type": "stream",
     "text": [
      "(400, 2)\n",
      "(100, 2)\n",
      "(400,)\n",
      "(100,)\n"
     ]
    }
   ],
   "source": [
    "# Let's check\n",
    "for i in (X_train,X_test,y_train,y_test):\n",
    "    print(i.shape)"
   ]
  },
  {
   "cell_type": "markdown",
   "metadata": {},
   "source": [
    "## KNN Classification"
   ]
  },
  {
   "cell_type": "code",
   "execution_count": 139,
   "metadata": {},
   "outputs": [
    {
     "data": {
      "text/plain": [
       "KNeighborsClassifier(algorithm='auto', leaf_size=30, metric='minkowski',\n",
       "                     metric_params=None, n_jobs=None, n_neighbors=3, p=2,\n",
       "                     weights='uniform')"
      ]
     },
     "execution_count": 139,
     "metadata": {},
     "output_type": "execute_result"
    }
   ],
   "source": [
    "N = 3\n",
    "ourknnclf = KNeighborsClassifier(n_neighbors=N)\n",
    "ourknnclf"
   ]
  },
  {
   "cell_type": "code",
   "execution_count": 153,
   "metadata": {},
   "outputs": [
    {
     "data": {
      "text/plain": [
       "KNeighborsClassifier(algorithm='auto', leaf_size=30, metric='minkowski',\n",
       "                     metric_params=None, n_jobs=None, n_neighbors=3, p=2,\n",
       "                     weights='uniform')"
      ]
     },
     "execution_count": 153,
     "metadata": {},
     "output_type": "execute_result"
    }
   ],
   "source": [
    "ourknnclf.fit(X_train,y_train)"
   ]
  },
  {
   "cell_type": "markdown",
   "metadata": {},
   "source": [
    "## Now to testing!"
   ]
  },
  {
   "cell_type": "code",
   "execution_count": 107,
   "metadata": {},
   "outputs": [],
   "source": [
    "predictions = ourknnclf.predict(X_test)"
   ]
  },
  {
   "cell_type": "markdown",
   "metadata": {},
   "source": [
    "## Evaluation!"
   ]
  },
  {
   "cell_type": "markdown",
   "metadata": {},
   "source": [
    "### First we use jaccard score which is : size of intersection of two label sets divided by size of union  \n",
    "<hr> \n",
    "It gives us the fraction of predictions that we got right!"
   ]
  },
  {
   "cell_type": "code",
   "execution_count": 108,
   "metadata": {
    "scrolled": true
   },
   "outputs": [
    {
     "data": {
      "text/plain": [
       "0.96"
      ]
     },
     "execution_count": 108,
     "metadata": {},
     "output_type": "execute_result"
    }
   ],
   "source": [
    "jaccard_similarity_score(y_test,predictions)  # first param is the true label, second is our predicted label"
   ]
  },
  {
   "cell_type": "markdown",
   "metadata": {},
   "source": [
    "# 96% !"
   ]
  },
  {
   "cell_type": "markdown",
   "metadata": {},
   "source": [
    "## Now let's try with K=1 to K=10 !"
   ]
  },
  {
   "cell_type": "code",
   "execution_count": 174,
   "metadata": {
    "scrolled": true
   },
   "outputs": [
    {
     "name": "stdout",
     "output_type": "stream",
     "text": [
      "k=1 , Score = 0.97\n",
      "k=2 , Score = 0.97\n",
      "k=3 , Score = 0.96\n",
      "k=4 , Score = 0.95\n",
      "k=5 , Score = 0.95\n",
      "k=6 , Score = 0.95\n",
      "k=7 , Score = 0.95\n",
      "k=8 , Score = 0.95\n",
      "k=9 , Score = 0.96\n",
      "k=10 , Score = 0.96\n"
     ]
    }
   ],
   "source": [
    "scores =  np.empty(10)\n",
    "for k in range(1,11):\n",
    "    knnclf = KNeighborsClassifier(n_neighbors=k)\n",
    "    knnclf.fit(X_train,y_train)\n",
    "    y_hat = knnclf.predict(X_test) # y_hat  stores predicted labels\n",
    "    scores[k-1] =   jaccard_similarity_score(y_test,y_hat)\n",
    "    #jaccard score \n",
    "    print(\"k={} , Score = {}\".format(k,scores[k-1]))\n",
    "    "
   ]
  },
  {
   "cell_type": "markdown",
   "metadata": {},
   "source": [
    "# SO K = 1(or 2) has the highest accuracy!"
   ]
  },
  {
   "cell_type": "markdown",
   "metadata": {},
   "source": [
    "## Now let's plot the testing data and get a visual feel! K = 1 "
   ]
  },
  {
   "cell_type": "markdown",
   "metadata": {},
   "source": [
    "## First we plot the true values "
   ]
  },
  {
   "cell_type": "code",
   "execution_count": 146,
   "metadata": {
    "scrolled": true
   },
   "outputs": [
    {
     "data": {
      "text/plain": [
       "Text(0.5, 1.0, 'TRUE VALUES')"
      ]
     },
     "execution_count": 146,
     "metadata": {},
     "output_type": "execute_result"
    },
    {
     "data": {
      "image/png": "[encoded data removed]",
      "text/plain": [
       "<Figure size 432x288 with 1 Axes>"
      ]
     },
     "metadata": {
      "needs_background": "light"
     },
     "output_type": "display_data"
    }
   ],
   "source": [
    "for i in range(len(X_test)):\n",
    "    x,y =  X_test[i,0],X_test[i,1] \n",
    "    if y in range(0,100):\n",
    "        plt.scatter(x,y,c='red')\n",
    "    elif y in range(100,200):\n",
    "        plt.scatter(x,y,c='green')\n",
    "    else:\n",
    "         plt.scatter(x,y,c='blue')\n",
    "\n",
    "plt.title('TRUE VALUES')\n",
    "#plt.legend(loc=2)"
   ]
  },
  {
   "cell_type": "code",
   "execution_count": 159,
   "metadata": {},
   "outputs": [],
   "source": [
    "clf_new = KNeighborsClassifier(n_neighbors=1)"
   ]
  },
  {
   "cell_type": "code",
   "execution_count": 161,
   "metadata": {},
   "outputs": [
    {
     "data": {
      "text/plain": [
       "KNeighborsClassifier(algorithm='auto', leaf_size=30, metric='minkowski',\n",
       "                     metric_params=None, n_jobs=None, n_neighbors=1, p=2,\n",
       "                     weights='uniform')"
      ]
     },
     "execution_count": 161,
     "metadata": {},
     "output_type": "execute_result"
    }
   ],
   "source": [
    "clf_new.fit(X_train,y_train)"
   ]
  },
  {
   "cell_type": "code",
   "execution_count": 162,
   "metadata": {},
   "outputs": [],
   "source": [
    "Y_hats = clf_new.predict(X_test)"
   ]
  },
  {
   "cell_type": "code",
   "execution_count": 175,
   "metadata": {
    "scrolled": true
   },
   "outputs": [
    {
     "data": {
      "text/plain": [
       "array([1, 1, 1, 2, 2, 2, 1, 0, 1, 1, 2, 1, 0, 0, 2, 1, 1, 1, 1, 1, 0, 2,\n",
       "       0, 1, 2, 1, 0, 2, 1, 2, 2, 2, 2, 0, 1, 0, 2, 1, 2, 2, 2, 2, 2, 0,\n",
       "       0, 1, 0, 2, 0, 2, 2, 0, 2, 2, 1, 0, 0, 1, 0, 1, 0, 2, 2, 0, 0, 1,\n",
       "       2, 2, 0, 1, 2, 2, 2, 2, 2, 2, 1, 2, 0, 1, 1, 0, 0, 1, 1, 2, 2, 2,\n",
       "       1, 2, 2, 2, 2, 0, 1, 0, 1, 1, 1, 1])"
      ]
     },
     "execution_count": 175,
     "metadata": {},
     "output_type": "execute_result"
    }
   ],
   "source": [
    "Y_hats"
   ]
  },
  {
   "cell_type": "code",
   "execution_count": 179,
   "metadata": {
    "scrolled": true
   },
   "outputs": [
    {
     "name": "stdout",
     "output_type": "stream",
     "text": [
      "1\n",
      "16\n",
      "65\n"
     ]
    }
   ],
   "source": [
    "for i in range(len(Y_hats)):\n",
    "    count = 1\n",
    "    if Y_hats[i]!=y_test[i]:\n",
    "        print(i)\n",
    "\n",
    "        "
   ]
  },
  {
   "cell_type": "code",
   "execution_count": 182,
   "metadata": {},
   "outputs": [
    {
     "data": {
      "text/plain": [
       "1"
      ]
     },
     "execution_count": 182,
     "metadata": {},
     "output_type": "execute_result"
    }
   ],
   "source": [
    "Y_hats[1]"
   ]
  },
  {
   "cell_type": "markdown",
   "metadata": {},
   "source": [
    "# NOw let's plot the predicted values according to the following rule - \n",
    "## If class label of that point is 0 then red ,1 then green , 2 then blue"
   ]
  },
  {
   "cell_type": "code",
   "execution_count": 183,
   "metadata": {},
   "outputs": [
    {
     "data": {
      "text/plain": [
       "Text(0.5, 1.0, 'PREDICTED VALUES(GREY VALUES WERE THE MISCLASSIFIED ONES)')"
      ]
     },
     "execution_count": 183,
     "metadata": {},
     "output_type": "execute_result"
    },
    {
     "data": {
      "image/png": "[encoded data removed]",
      "text/plain": [
       "<Figure size 432x288 with 1 Axes>"
      ]
     },
     "metadata": {
      "needs_background": "light"
     },
     "output_type": "display_data"
    }
   ],
   "source": [
    "for i in range(len(X_test)):\n",
    "    if y_test[i] == Y_hats[i]:\n",
    "        if Y_hats[i] == 0:\n",
    "            plt.scatter(X_test[i,0],X_test[i,1],c='red')\n",
    "        elif Y_hats[i] == 1:\n",
    "            plt.scatter(X_test[i,0],X_test[i,1],c='green')\n",
    "        else:\n",
    "            plt.scatter(X_test[i,0],X_test[i,1],c='blue')\n",
    "    else:\n",
    "         plt.scatter(X_test[i,0],X_test[i,1],c='grey')\n",
    "        \n",
    "\n",
    "plt.title('PREDICTED VALUES(GREY VALUES WERE THE MISCLASSIFIED ONES)')"
   ]
  },
  {
   "cell_type": "markdown",
   "metadata": {},
   "source": [
    "## So in our K = 1 KNN example plot above, 3 values have been assigned incorrect class which makes sense as our Jaccard score for K=1 was 97%! \n",
    "<hr> \n"
   ]
  }
 ],
 "metadata": {
  "kernelspec": {
   "display_name": "Python 3",
   "language": "python",
   "name": "python3"
  },
  "language_info": {
   "codemirror_mode": {
    "name": "ipython",
    "version": 3
   },
   "file_extension": ".py",
   "mimetype": "text/x-python",
   "name": "python",
   "nbconvert_exporter": "python",
   "pygments_lexer": "ipython3",
   "version": "3.7.4"
  }
 },
 "nbformat": 4,
 "nbformat_minor": 2
}
